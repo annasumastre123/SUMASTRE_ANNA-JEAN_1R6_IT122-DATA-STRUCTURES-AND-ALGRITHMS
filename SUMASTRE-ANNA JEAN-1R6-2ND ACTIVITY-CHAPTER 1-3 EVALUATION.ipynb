{
 "cells": [
  {
   "cell_type": "code",
   "execution_count": 1,
   "id": "vertical-garage",
   "metadata": {},
   "outputs": [
    {
     "name": "stdout",
     "output_type": "stream",
     "text": [
      "Discuss your learnings on Chapter 1 time frame 8:00-30:35. Minimum of 200 characters\n"
     ]
    }
   ],
   "source": [
    "print(\"Discuss your learnings on Chapter 1 time frame 8:00-30:35. Minimum of 200 characters\")"
   ]
  },
  {
   "cell_type": "code",
   "execution_count": 2,
   "id": "interested-design",
   "metadata": {},
   "outputs": [
    {
     "name": "stdout",
     "output_type": "stream",
     "text": [
      "The following are my learnings in Chapter 1\n",
      "Data structures is a way of collecting and organising data in such a way that we can perform operations on these data in an effective way\n",
      "Data structures is about rendering data elements in terms of some relationship, for better organization and storage \n",
      "In simple language, data structures are structures programmed to store ordered data, so that various operations can be performed on it easily\n",
      "It represents the knowledge of data to be organized in memory\n",
      "It should be design and implemented in such a way that it reduces the complexity and increases the efficiency\n",
      "Basic types of data structures such as integer, float, boolean, char, etc. They are also known as Primative Data Structures\n",
      "Linked List, Tree, Graph, Stack, que, etc. All these data structures allow us to perform different operations on dats. We select these data structures based on which type of operation is required.\n"
     ]
    }
   ],
   "source": [
    "print(\"The following are my learnings in Chapter 1\")\n",
    "print(\"Data structures is a way of collecting and organising data in such a way that we can perform operations on these data in an effective way\")\n",
    "print(\"Data structures is about rendering data elements in terms of some relationship, for better organization and storage \")\n",
    "print(\"In simple language, data structures are structures programmed to store ordered data, so that various operations can be performed on it easily\")\n",
    "print(\"It represents the knowledge of data to be organized in memory\")\n",
    "print(\"It should be design and implemented in such a way that it reduces the complexity and increases the efficiency\")\n",
    "print(\"Basic types of data structures such as integer, float, boolean, char, etc. They are also known as Primative Data Structures\")\n",
    "print(\"Linked List, Tree, Graph, Stack, que, etc. All these data structures allow us to perform different operations on dats. We select these data structures based on which type of operation is required.\")\n",
    "\n"
   ]
  },
  {
   "cell_type": "code",
   "execution_count": 3,
   "id": "administrative-awareness",
   "metadata": {},
   "outputs": [
    {
     "name": "stdout",
     "output_type": "stream",
     "text": [
      "Disuss your learning on Chapter 2 time frame 5:00-9:00. Minimum of 20 characters\n"
     ]
    }
   ],
   "source": [
    "print(\"Disuss your learning on Chapter 2 time frame 5:00-9:00. Minimum of 20 characters\")\n"
   ]
  },
  {
   "cell_type": "code",
   "execution_count": 5,
   "id": "deluxe-accent",
   "metadata": {},
   "outputs": [
    {
     "name": "stdout",
     "output_type": "stream",
     "text": [
      "The following are my learnings in Chapter 2\n",
      "Data defines a particular data with the following characteristics\n",
      "Atomic- Definition should define a single concept\n",
      "Traceable- Definition should be able to mapped to some data element \n",
      "Accurate- Definition should be unambiguous\n",
      "Clear and Concise- Definition should be understandable\n",
      "Data type is a way to classify various types of data such as integer,string, etc. which determines the values that can be used with the corresponding type of data. There are two data types:1st- Built in data type and Derived Data Type\n",
      "Those data types which are  implementation independent as they can be implemented in one or the other wayare known as derived data types. These data types are normally built by the combination of primary or built in data types and associated operations  on them\n",
      "The data in the data structures are processed by certain operations. The particular data structure chosen largely depends on the frequency of the operation that needs to be performed on the data structure\n"
     ]
    }
   ],
   "source": [
    "print(\"The following are my learnings in Chapter 2\")\n",
    "print(\"Data defines a particular data with the following characteristics\")\n",
    "print(\"Atomic- Definition should define a single concept\")\n",
    "print(\"Traceable- Definition should be able to mapped to some data element \")\n",
    "print(\"Accurate- Definition should be unambiguous\")\n",
    "print(\"Clear and Concise- Definition should be understandable\")\n",
    "print(\"Data type is a way to classify various types of data such as integer,string, etc. which determines the values that can be used with the corresponding type of data. There are two data types:1st- Built in data type and Derived Data Type\")\n",
    "print(\"Those data types which are  implementation independent as they can be implemented in one or the other wayare known as derived data types. These data types are normally built by the combination of primary or built in data types and associated operations  on them\")\n",
    "print(\"The data in the data structures are processed by certain operations. The particular data structure chosen largely depends on the frequency of the operation that needs to be performed on the data structure\")     \n"
   ]
  },
  {
   "cell_type": "code",
   "execution_count": 7,
   "id": "daily-movement",
   "metadata": {},
   "outputs": [
    {
     "name": "stdout",
     "output_type": "stream",
     "text": [
      "Discuss your learnings on chapter 3 time frame 3:00-18:00. Minimum of 200 characters\n"
     ]
    }
   ],
   "source": [
    "print(\"Discuss your learnings on chapter 3 time frame 3:00-18:00. Minimum of 200 characters\")\n"
   ]
  },
  {
   "cell_type": "code",
   "execution_count": 9,
   "id": "brazilian-finish",
   "metadata": {},
   "outputs": [
    {
     "name": "stdout",
     "output_type": "stream",
     "text": [
      "The following are my learnings in Chapter 3\n",
      "Array is the container which can hold a fix number of items and these items should be of the same type. Most of the data structures make use of arrays to implement their algorithms.\n",
      "Following are important terms to understand the concept of array:\n",
      "1st is Element- Each item stored in an array is called an ellement, 2nd is Index- Each  location of an element  in an array has a numerical index, which is used to identify the element\n",
      "Following are the basic operations supported by an array: Traverse- Print all the array elements one by one ,Insertion- Adds and element at the given index ,Search- searches an element  using the given index or by the value,  Update- Updates an element at the given index\n",
      "Insertion operation is to insert one or more data elements into an array\n",
      "Delete operation- deletion refers to removing an existing element from the array and re organising all elements of an array\n",
      "Search operation- you can perform a search for an array elements based on its value or index\n",
      "Update operation- refers to updating n existing element from the array at a given index\n"
     ]
    }
   ],
   "source": [
    "print(\"The following are my learnings in Chapter 3\")\n",
    "print(\"Array is the container which can hold a fix number of items and these items should be of the same type. Most of the data structures make use of arrays to implement their algorithms.\")\n",
    "print(\"Following are important terms to understand the concept of array:\")\n",
    "print(\"1st is Element- Each item stored in an array is called an ellement, 2nd is Index- Each  location of an element  in an array has a numerical index, which is used to identify the element\")\n",
    "print(\"Following are the basic operations supported by an array: Traverse- Print all the array elements one by one ,Insertion- Adds and element at the given index ,Search- searches an element  using the given index or by the value,  Update- Updates an element at the given index\")\n",
    "print(\"Insertion operation is to insert one or more data elements into an array\")\n",
    "print(\"Delete operation- deletion refers to removing an existing element from the array and re organising all elements of an array\")\n",
    "print(\"Search operation- you can perform a search for an array elements based on its value or index\")\n",
    "print(\"Update operation- refers to updating n existing element from the array at a given index\")\n"
   ]
  },
  {
   "cell_type": "code",
   "execution_count": 13,
   "id": "severe-coupon",
   "metadata": {},
   "outputs": [
    {
     "name": "stdout",
     "output_type": "stream",
     "text": [
      "2244\n",
      "450\n",
      "2456\n",
      "62\n",
      "897633\n"
     ]
    }
   ],
   "source": [
    "from array import*\n",
    "arrayCode = array('I',{450,62,2456,3365,2244})\n",
    "arrayCode.insert(5,897633)\n",
    "arrayCode.remove(450)\n",
    "arrayCode[1] = 450\n",
    "for x in arrayCode:\n",
    "    print(x)\n",
    "    \n",
    "    "
   ]
  },
  {
   "cell_type": "code",
   "execution_count": null,
   "id": "conscious-korean",
   "metadata": {},
   "outputs": [],
   "source": []
  }
 ],
 "metadata": {
  "kernelspec": {
   "display_name": "Python 3",
   "language": "python",
   "name": "python3"
  },
  "language_info": {
   "codemirror_mode": {
    "name": "ipython",
    "version": 3
   },
   "file_extension": ".py",
   "mimetype": "text/x-python",
   "name": "python",
   "nbconvert_exporter": "python",
   "pygments_lexer": "ipython3",
   "version": "3.9.2"
  }
 },
 "nbformat": 4,
 "nbformat_minor": 5
}
